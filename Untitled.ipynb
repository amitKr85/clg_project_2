{
 "cells": [
  {
   "cell_type": "code",
   "execution_count": 29,
   "metadata": {},
   "outputs": [],
   "source": [
    "import numpy as np\n",
    "import pandas as pd"
   ]
  },
  {
   "cell_type": "code",
   "execution_count": 30,
   "metadata": {},
   "outputs": [
    {
     "name": "stdout",
     "output_type": "stream",
     "text": [
      "[[0. 6. 4. 4. 4. 7. 4. 5. 6. 2.]\n",
      " [6. 0. 4. 2. 4. 3. 2. 1. 2. 4.]\n",
      " [4. 4. 0. 4. 4. 5. 4. 5. 4. 4.]\n",
      " [4. 2. 4. 0. 6. 3. 2. 1. 2. 2.]\n",
      " [4. 4. 4. 6. 0. 5. 6. 5. 6. 6.]\n",
      " [7. 3. 5. 3. 5. 0. 3. 4. 1. 5.]\n",
      " [4. 2. 4. 2. 6. 3. 0. 3. 2. 2.]\n",
      " [5. 1. 5. 1. 5. 4. 3. 0. 3. 3.]\n",
      " [6. 2. 4. 2. 6. 1. 2. 3. 0. 4.]\n",
      " [2. 4. 4. 2. 6. 5. 2. 3. 4. 0.]]\n"
     ]
    }
   ],
   "source": [
    "tech_csv_path = \"test_files/temp_tech_formal_context.csv\"\n",
    "stu_csv_path = \"test_files/temp_student_formal_context.csv\"\n",
    "\n",
    "stu_skill_mat = np.array(pd.read_csv(stu_csv_path).replace([np.nan,'X'],[0, 1]).iloc[:,1:].values,dtype='int')\n",
    "proj_skill_mat = np.array(pd.read_csv(tech_csv_path).replace([np.nan,'X'],[0,1]).iloc[:,1:].values,dtype='int')\n",
    "\n",
    "stu_dist = np.zeros((stu_skill_mat.shape[0],stu_skill_mat.shape[0]))\n",
    "\n",
    "for i in range(stu_skill_mat.shape[0]):\n",
    "    for j in range(stu_skill_mat.shape[0]):\n",
    "        if i != j:\n",
    "            stu_dist[i][j] = stu_dist[j][i] = np.sum(np.bitwise_xor(stu_skill_mat[i,:],stu_skill_mat[j,:]))\n",
    "\n",
    "print(stu_dist)"
   ]
  },
  {
   "cell_type": "code",
   "execution_count": 31,
   "metadata": {},
   "outputs": [],
   "source": [
    "from scipy.cluster import hierarchy\n",
    "import matplotlib.pyplot as plt"
   ]
  },
  {
   "cell_type": "code",
   "execution_count": 32,
   "metadata": {},
   "outputs": [
    {
     "name": "stdout",
     "output_type": "stream",
     "text": [
      "[[ 3.          7.          3.16227766  2.        ]\n",
      " [ 1.         10.          3.16227766  3.        ]\n",
      " [ 5.          8.          3.16227766  2.        ]\n",
      " [ 6.         11.          3.46410162  4.        ]\n",
      " [12.         13.          4.47213595  6.        ]\n",
      " [ 9.         14.          4.89897949  7.        ]\n",
      " [ 0.         15.          6.          8.        ]\n",
      " [ 2.         16.          6.92820323  9.        ]\n",
      " [ 4.         17.          6.92820323 10.        ]]\n"
     ]
    },
    {
     "name": "stderr",
     "output_type": "stream",
     "text": [
      "C:\\Users\\AMIT\\Anaconda3\\lib\\site-packages\\ipykernel_launcher.py:1: ClusterWarning: scipy.cluster: The symmetric non-negative hollow observation matrix looks suspiciously like an uncondensed distance matrix\n",
      "  \"\"\"Entry point for launching an IPython kernel.\n"
     ]
    },
    {
     "data": {
      "image/png": "[encoded data removed]",
      "text/plain": [
       "<Figure size 432x288 with 1 Axes>"
      ]
     },
     "metadata": {
      "needs_background": "light"
     },
     "output_type": "display_data"
    }
   ],
   "source": [
    "stu_Z = hierarchy.linkage(stu_dist, 'single')\n",
    "print(stu_Z)\n",
    "plt.figure()\n",
    "plt.xlabel('students')\n",
    "dn = hierarchy.dendrogram(stu_Z)\n"
   ]
  },
  {
   "cell_type": "code",
   "execution_count": 33,
   "metadata": {},
   "outputs": [
    {
     "name": "stdout",
     "output_type": "stream",
     "text": [
      "[[0. 5. 5. 5. 4. 5. 4. 5. 4. 4.]\n",
      " [5. 0. 4. 4. 3. 4. 3. 2. 3. 3.]\n",
      " [5. 4. 0. 4. 5. 4. 5. 4. 5. 3.]\n",
      " [5. 4. 4. 0. 3. 2. 3. 2. 3. 7.]\n",
      " [4. 3. 5. 3. 0. 3. 4. 3. 0. 6.]\n",
      " [5. 4. 4. 2. 3. 0. 5. 2. 3. 7.]\n",
      " [4. 3. 5. 3. 4. 5. 0. 5. 4. 6.]\n",
      " [5. 2. 4. 2. 3. 2. 5. 0. 3. 5.]\n",
      " [4. 3. 5. 3. 0. 3. 4. 3. 0. 6.]\n",
      " [4. 3. 3. 7. 6. 7. 6. 5. 6. 0.]]\n",
      "[[ 4.          8.          0.          2.        ]\n",
      " [ 3.          5.          3.46410162  2.        ]\n",
      " [ 7.         11.          4.          3.        ]\n",
      " [ 1.         12.          4.89897949  4.        ]\n",
      " [10.         13.          5.83095189  6.        ]\n",
      " [ 6.         14.          6.4807407   7.        ]\n",
      " [ 2.          9.          6.4807407   2.        ]\n",
      " [ 0.         15.          6.63324958  8.        ]\n",
      " [16.         17.          6.92820323 10.        ]]\n"
     ]
    },
    {
     "name": "stderr",
     "output_type": "stream",
     "text": [
      "C:\\Users\\AMIT\\Anaconda3\\lib\\site-packages\\ipykernel_launcher.py:9: ClusterWarning: scipy.cluster: The symmetric non-negative hollow observation matrix looks suspiciously like an uncondensed distance matrix\n",
      "  if __name__ == '__main__':\n"
     ]
    },
    {
     "data": {
      "image/png": "[encoded data removed]",
      "text/plain": [
       "<Figure size 432x288 with 1 Axes>"
      ]
     },
     "metadata": {
      "needs_background": "light"
     },
     "output_type": "display_data"
    }
   ],
   "source": [
    "proj_dist = np.zeros((proj_skill_mat.shape[0],proj_skill_mat.shape[0]))\n",
    "\n",
    "for i in range(proj_skill_mat.shape[0]):\n",
    "    for j in range(proj_skill_mat.shape[0]):\n",
    "        if i != j:\n",
    "            proj_dist[i][j] = proj_dist[j][i] = np.sum(np.bitwise_xor(proj_skill_mat[i,:],proj_skill_mat[j,:]))\n",
    "\n",
    "print(proj_dist)\n",
    "proj_Z = hierarchy.linkage(proj_dist, 'single')\n",
    "print(proj_Z)\n",
    "plt.figure()\n",
    "plt.xlabel('projects')\n",
    "dn = hierarchy.dendrogram(proj_Z)"
   ]
  },
  {
   "cell_type": "code",
   "execution_count": null,
   "metadata": {},
   "outputs": [],
   "source": []
  },
  {
   "cell_type": "code",
   "execution_count": null,
   "metadata": {},
   "outputs": [],
   "source": []
  }
 ],
 "metadata": {
  "kernelspec": {
   "display_name": "Python 3",
   "language": "python",
   "name": "python3"
  },
  "language_info": {
   "codemirror_mode": {
    "name": "ipython",
    "version": 3
   },
   "file_extension": ".py",
   "mimetype": "text/x-python",
   "name": "python",
   "nbconvert_exporter": "python",
   "pygments_lexer": "ipython3",
   "version": "3.7.0"
  }
 },
 "nbformat": 4,
 "nbformat_minor": 2
}
