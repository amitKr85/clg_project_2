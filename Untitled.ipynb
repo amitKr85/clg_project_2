{
 "cells": [
  {
   "cell_type": "code",
   "execution_count": 10,
   "metadata": {},
   "outputs": [],
   "source": [
    "import pandas as pd\n",
    "import numpy as np\n",
    "import matplotlib.pyplot as plt\n",
    "%matplotlib qt"
   ]
  },
  {
   "cell_type": "code",
   "execution_count": 13,
   "metadata": {
    "scrolled": false
   },
   "outputs": [
    {
     "data": {
      "text/plain": [
       "array([0., 1.])"
      ]
     },
     "metadata": {},
     "output_type": "display_data"
    }
   ],
   "source": [
    "df_projects = pd.read_csv('test_files/student_formal_context.csv').replace([None,'X'],[0,1])\n",
    "display(np.unique(df_projects.iloc[:,1:].values))"
   ]
  },
  {
   "cell_type": "code",
   "execution_count": null,
   "metadata": {},
   "outputs": [],
   "source": [
    "from sklearn.cluster import KMeans"
   ]
  },
  {
   "cell_type": "code",
   "execution_count": null,
   "metadata": {},
   "outputs": [],
   "source": [
    "test_data = df_projects.iloc[:,1:].values\n",
    "inertias = []\n",
    "for i in range(1,len(test_data)+1):\n",
    "    model = KMeans(n_clusters=i)\n",
    "    model.fit(test_data)\n",
    "    inertias.append(model.inertia_)\n",
    "\n",
    "plt.plot(np.arange(1,len(test_data)+1),inertias)\n",
    "plt.show()"
   ]
  },
  {
   "cell_type": "code",
   "execution_count": null,
   "metadata": {},
   "outputs": [],
   "source": [
    "center = model.cluster_centers_[0]\n",
    "dist = []\n",
    "for row in test_data:\n",
    "    dist.append(np.sum(np.abs(row-center)))\n",
    "\n",
    "plt.scatter(np.array(dist)+10,np.zeros(len(dist)),alpha=0.5)\n",
    "plt.show()"
   ]
  },
  {
   "cell_type": "code",
   "execution_count": 2,
   "metadata": {},
   "outputs": [],
   "source": [
    "from sklearn.cluster import AgglomerativeClustering"
   ]
  },
  {
   "cell_type": "code",
   "execution_count": 18,
   "metadata": {},
   "outputs": [],
   "source": [
    "def getCentroids(model, X):\n",
    "    y_predict = model.labels_\n",
    "    centriods = []\n",
    "    for label in np.unique(y_predict):\n",
    "        X_temp = X[y_predict == label]\n",
    "        center = np.sum(X_temp,axis=0)/X_temp.shape[0]\n",
    "        centriods.append(center)\n",
    "    return centriods\n",
    "\n",
    "def getInertia(model, X):\n",
    "    centroids = getCentroids(model, X)\n",
    "    dist = 0\n",
    "    y_pred = model.labels_\n",
    "    for label in np.unique(y_pred):\n",
    "        for i in X[y_pred == label]:\n",
    "            dist+=np.sum(np.power(np.abs(i-centroids[label]),2))\n",
    "    return dist"
   ]
  },
  {
   "cell_type": "code",
   "execution_count": 30,
   "metadata": {},
   "outputs": [],
   "source": [
    "X = df_projects.iloc[:,1:].values\n",
    "inertias = []\n",
    "for i in range(1,101):\n",
    "    agg = AgglomerativeClustering(n_clusters=i, affinity='euclidean', linkage='ward')\n",
    "    agg.fit(X)\n",
    "    inertias.append(getInertia(agg, X))"
   ]
  },
  {
   "cell_type": "code",
   "execution_count": 33,
   "metadata": {},
   "outputs": [],
   "source": [
    "plt.plot(np.arange(1,101),inertias)\n",
    "plt.show()"
   ]
  }
 ],
 "metadata": {
  "kernelspec": {
   "display_name": "Python 3",
   "language": "python",
   "name": "python3"
  },
  "language_info": {
   "codemirror_mode": {
    "name": "ipython",
    "version": 3
   },
   "file_extension": ".py",
   "mimetype": "text/x-python",
   "name": "python",
   "nbconvert_exporter": "python",
   "pygments_lexer": "ipython3",
   "version": "3.7.0"
  }
 },
 "nbformat": 4,
 "nbformat_minor": 2
}
