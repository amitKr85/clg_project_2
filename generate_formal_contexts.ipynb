{
 "cells": [
  {
   "cell_type": "code",
   "execution_count": 1,
   "metadata": {},
   "outputs": [],
   "source": [
    "import random\n",
    "import pickle\n",
    "import csv\n"
   ]
  },
  {
   "cell_type": "code",
   "execution_count": 41,
   "metadata": {},
   "outputs": [],
   "source": [
    "skills_len = 10\n",
    "rows_count = 10000\n",
    "row_head = \"project\"\n",
    "prob_limit = 0.80\n",
    "path = 'testing/'"
   ]
  },
  {
   "cell_type": "code",
   "execution_count": 42,
   "metadata": {},
   "outputs": [],
   "source": [
    "csvfile = open(f\"{path}{row_head}_formal_context_{rows_count}.csv\",\"w\",encoding=\"utf-8\")\n",
    "\n",
    "with open(\"testing/all_skills.pickle\",\"rb\") as pik:\n",
    "    skills = list(pickle.load(pik))[:skills_len]\n",
    "    skills = [ skill.strip().lower() for skill in skills]\n",
    "\n",
    "header = ['']\n",
    "header.extend(skills)\n",
    "csvfile.write(','.join(header)+'\\n')\n",
    "\n",
    "for i in range(rows_count):\n",
    "    row = list()\n",
    "    row.append(row_head + str(i + 1))\n",
    "    for j in range(skills_len):\n",
    "        row.append(\"X\" if random.random() > prob_limit else \"\")\n",
    "    csvfile.write(','.join(row)+'\\n')\n",
    "\n",
    "csvfile.close()"
   ]
  },
  {
   "cell_type": "code",
   "execution_count": null,
   "metadata": {},
   "outputs": [],
   "source": []
  }
 ],
 "metadata": {
  "kernelspec": {
   "display_name": "Python 3",
   "language": "python",
   "name": "python3"
  },
  "language_info": {
   "codemirror_mode": {
    "name": "ipython",
    "version": 3
   },
   "file_extension": ".py",
   "mimetype": "text/x-python",
   "name": "python",
   "nbconvert_exporter": "python",
   "pygments_lexer": "ipython3",
   "version": "3.7.0"
  }
 },
 "nbformat": 4,
 "nbformat_minor": 2
}
